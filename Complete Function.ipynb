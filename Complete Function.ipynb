{
 "cells": [
  {
   "cell_type": "code",
   "execution_count": 3,
   "metadata": {},
   "outputs": [],
   "source": [
    "from tabula import read_pdf\n",
    "import tabula\n",
    "import pandas as pd\n",
    "import re\n",
    "import math\n",
    "import warnings\n",
    "import PyPDF2\n",
    "from tqdm import tqdm_notebook as tqdm\n",
    "warnings.filterwarnings(action='always')\n",
    "\n",
    "pd.options.display.max_rows = 4000\n"
   ]
  },
  {
   "cell_type": "code",
   "execution_count": 26,
   "metadata": {},
   "outputs": [],
   "source": [
    "def page_transform(page, pdf):\n",
    "\n",
    "    df = tabula.read_pdf(pdf, pages=page)\n",
    "\n",
    "    df_revision = df.copy()\n",
    "    df_null = df.isna()\n",
    "\n",
    "    df_revision.replace(to_replace=[r\"\\\\t|\\\\n|\\\\r\", \"\\t|\\n|\\r\"], value=[\" \",\" \"], regex=True, inplace=True)\n",
    "\n",
    "    unit = []\n",
    "    station = []\n",
    "    line = []\n",
    "    availability = []\n",
    "    comment = ''\n",
    "    comments = []\n",
    "\n",
    "    if len(df.columns) == 3:\n",
    "\n",
    "        df_comment = pd.DataFrame(\n",
    "            {'full comment': df[df.columns[2]].str.contains(r'^(Th).*$'),\n",
    "             'starts percent': df[df.columns[2]].str.contains(r'\\d{1,2}\\.\\d{2}\\%'),\n",
    "             'continued comment': df[df.columns[2]].str.contains(r'^[a-zA-SU-Z]*[\\s]'),\n",
    "             'all caps': df[df.columns[2]].str.contains(r'^[^a-z]*$'),\n",
    "             'no spaces': df[df.columns[2]].str.contains(r'^[^\\s]*$'),\n",
    "            })\n",
    "\n",
    "        for i in range(len(df)):\n",
    "            if re.match(string = str(df[df.columns[0]][i]), pattern = r'E[SL]\\d{3}'):\n",
    "                unit.append(df[df.columns[0]][i])\n",
    "            if re.match(string = str(df[df.columns[1]][i]).split(' ')[-1], pattern = r'[ABCDEFGJLMNRQWZ1-7]'):\n",
    "                if re.match(string = str(df[df.columns[1]][i]).split(' ')[-1], pattern = r'^((?!Location).)*$'):\n",
    "                    line.append(df[df.columns[1]][i].split(' ')[-1])\n",
    "                if ' '.join(df[df.columns[1]][i].split(' ')[:-1]) is not '':\n",
    "                    station.append(' '.join(df[df.columns[1]][i].split(' ')[:-1]))\n",
    "            if re.match(string = str(df[df.columns[2]][i]).split(' ')[0], pattern = r'\\d{1,2}\\.\\d{2}\\%'):\n",
    "                availability.append(df[df.columns[2]][i].split(' ')[0])\n",
    "            if df_comment['starts percent'][i] == True:\n",
    "                if len(comment) > 0:\n",
    "                    comments.append(comment)\n",
    "                    comment = ''\n",
    "                comment += ' '.join(df_revision[df_revision.columns[2]][i].split(' ')[1:])\n",
    "\n",
    "            if df_comment['full comment'][i] == True and df_null[df_revision.columns[1]][i] == True:\n",
    "                comment += df_revision[df_revision.columns[2]][i]\n",
    "\n",
    "            if df_comment['full comment'][i] == True and df_null[df_revision.columns[1]][i] == False:\n",
    "                if len(comment) > 0:\n",
    "                    comments.append(comment)\n",
    "                    comment = ''\n",
    "                comments.append(df_revision[df_revision.columns[2]][i])\n",
    "\n",
    "            if df_comment['continued comment'][i] == True and i != 0:\n",
    "                comment += df_revision[df_revision.columns[2]][i]\n",
    "\n",
    "        if len(comment) > 0:\n",
    "            comments.append(comment)        \n",
    "\n",
    "        df_output = pd.DataFrame(\n",
    "            {'unit': unit,\n",
    "             'station': station,\n",
    "             'line': line,\n",
    "             'availability': availability,\n",
    "             'comments' : comments\n",
    "            })\n",
    "\n",
    "    if len(df.columns) > 4:\n",
    "        df = df[list(df.columns[:-1])]\n",
    "\n",
    "    if len(df.columns) == 4:\n",
    "\n",
    "        df_comment = pd.DataFrame(\n",
    "            {'full comment': df[df.columns[3]].str.contains(r'^(Th|In an effort to improve reliability).*$'),\n",
    "             'starts percent': df[df.columns[3]].str.contains(r'\\d{1,2}\\.\\d{2}\\%'),\n",
    "             'continued comment': df[df.columns[3]].str.contains(r'(?!In an effort to improve reliability)[a-zA-SU-Z]*[\\s]'),\n",
    "             'all caps': df[df.columns[3]].str.contains(r'^[^a-z]*$'),\n",
    "             'no spaces': df[df.columns[3]].str.contains(r'^[^\\s]*$'),\n",
    "            })\n",
    "\n",
    "        for i in range(len(df)):\n",
    "            if df.iloc[i][1] != 'Location':\n",
    "                if re.match(string = str(df.iloc[i][0]), pattern = r'E|[SL]\\d{3}'):\n",
    "                    unit.append(df.iloc[i][0])\n",
    "                if str(df.iloc[i][1]) != 'nan':\n",
    "                    station.append(' '.join(str(df.iloc[i][1]).split(' ')[:-1]))\n",
    "                if re.match(string = str(df.iloc[i][1]).split(' ')[-1], pattern = r'[ABCDEFGJLMNRQWZ1-7]'):\n",
    "                    line.append(str(df.iloc[i][1]).split(' ')[-1])\n",
    "\n",
    "            if df.iloc[i].isna().sum() == 0:\n",
    "                if re.match(string = df.iloc[i][2], pattern = r'\\d{1,2}\\.\\d{2}\\%'):\n",
    "                    availability.append(df.iloc[i][2])\n",
    "\n",
    "            if df.iloc[i].isna().sum() == 1:\n",
    "                if re.match(string = df.iloc[i][3].split(' ')[0], pattern = r'\\d{1,2}\\.\\d{2}\\%'):\n",
    "                    availability.append(df.iloc[i][3].split(' ')[0])\n",
    "\n",
    "            if df_comment['starts percent'][i] == True:\n",
    "                if len(comment) > 0:\n",
    "                    comments.append(comment)\n",
    "                    comment = ''\n",
    "                comment += ' '.join(df_revision[df_revision.columns[3]][i].split(' ')[1:])\n",
    "\n",
    "            if df_comment['full comment'][i] == True and df_null[df_null.columns[2]][i] == True:\n",
    "                comment += df_revision[df_revision.columns[3]][i]\n",
    "\n",
    "            if df_comment['full comment'][i] == True and df_null[df_null.columns[2]][i] == False:\n",
    "                if len(comment) > 0:\n",
    "                    comments.append(comment)\n",
    "                    comment = ''\n",
    "                comments.append(df_revision[df_revision.columns[3]][i])\n",
    "\n",
    "            if df_comment['continued comment'][i] == True:\n",
    "                comment += df_revision[df_revision.columns[3]][i]\n",
    "\n",
    "        if len(comment) > 0:\n",
    "            comments.append(comment)        \n",
    "\n",
    "        comments = [i for n, i in enumerate(comments) if i not in comments[:n]] \n",
    "\n",
    "        df_output = pd.DataFrame(\n",
    "            {'unit': unit,\n",
    "             'station': station,\n",
    "             'line': line,\n",
    "             'availability': availability,\n",
    "             'comments' : comments\n",
    "            })\n",
    "        \n",
    "        return df_output\n"
   ]
  },
  {
   "cell_type": "code",
   "execution_count": 27,
   "metadata": {},
   "outputs": [],
   "source": [
    "def pdf_transform_v6(pdf):\n",
    "    df_new = pd.DataFrame(\n",
    "        {'unit': [],\n",
    "         'station': [],\n",
    "         'line': [],\n",
    "         'availability': [],\n",
    "         'comments' : []\n",
    "        })\n",
    "    \n",
    "    pages = []\n",
    "    \n",
    "    pdfFileObj = open(pdf, 'rb') \n",
    "    pdfReader = PyPDF2.PdfFileReader(pdfFileObj)\n",
    "    \n",
    "    for i in tqdm(range(pdfReader.trailer['/Root']['/Pages']['/Count']), leave = False, desc = 'Scanning PDF Pages'):\n",
    "        pageObj = pdfReader.getPage(i) \n",
    "        current_page = pageObj.extractText()\n",
    "        if 'WITH LESS THAN 85% AVAILABILITY' in current_page:\n",
    "            pages.append(i)\n",
    "            \n",
    "    pdfFileObj.close()\n",
    "    \n",
    "    for i in tqdm(pages, leave = False, desc = 'Processing Chart: '):\n",
    "        df_temp = page_transform(i + 1, pdf)\n",
    "        df_new = pd.concat([df_new, df_temp], axis = 0).reset_index(drop = True)\n",
    "        \n",
    "    return df_new\n",
    "        "
   ]
  },
  {
   "cell_type": "code",
   "execution_count": 29,
   "metadata": {},
   "outputs": [
    {
     "data": {
      "application/vnd.jupyter.widget-view+json": {
       "model_id": "",
       "version_major": 2,
       "version_minor": 0
      },
      "text/plain": [
       "HBox(children=(IntProgress(value=0, description='Scanning PDF Pages', max=191, style=ProgressStyle(description…"
      ]
     },
     "metadata": {},
     "output_type": "display_data"
    },
    {
     "name": "stdout",
     "output_type": "stream",
     "text": [
      "\r"
     ]
    },
    {
     "data": {
      "application/vnd.jupyter.widget-view+json": {
       "model_id": "",
       "version_major": 2,
       "version_minor": 0
      },
      "text/plain": [
       "HBox(children=(IntProgress(value=0, description='Processing Chart: ', max=3, style=ProgressStyle(description_w…"
      ]
     },
     "metadata": {},
     "output_type": "display_data"
    },
    {
     "name": "stderr",
     "output_type": "stream",
     "text": [
      "UserWarning: This pattern has match groups. To actually get the groups, use str.extract. [ipykernel_launcher.py:72]\n",
      "UserWarning: This pattern has match groups. To actually get the groups, use str.extract. [ipykernel_launcher.py:72]\n"
     ]
    },
    {
     "name": "stdout",
     "output_type": "stream",
     "text": [
      "\r"
     ]
    },
    {
     "name": "stderr",
     "output_type": "stream",
     "text": [
      "UserWarning: This pattern has match groups. To actually get the groups, use str.extract. [ipykernel_launcher.py:72]\n"
     ]
    }
   ],
   "source": [
    "pdf = '171113_1030_Transit.pdf'\n",
    "pdf_transform_v6(pdf).to_csv(\"CSVs/\" + pdf + \".csv\")"
   ]
  },
  {
   "cell_type": "code",
   "execution_count": null,
   "metadata": {},
   "outputs": [],
   "source": []
  }
 ],
 "metadata": {
  "kernelspec": {
   "display_name": "Python 3",
   "language": "python",
   "name": "python3"
  },
  "language_info": {
   "codemirror_mode": {
    "name": "ipython",
    "version": 3
   },
   "file_extension": ".py",
   "mimetype": "text/x-python",
   "name": "python",
   "nbconvert_exporter": "python",
   "pygments_lexer": "ipython3",
   "version": "3.7.3"
  }
 },
 "nbformat": 4,
 "nbformat_minor": 2
}
